{
  "nbformat": 4,
  "nbformat_minor": 0,
  "metadata": {
    "colab": {
      "provenance": [],
      "authorship_tag": "ABX9TyN21KFPW3eWaZ/mcSSnjHDo",
      "include_colab_link": true
    },
    "kernelspec": {
      "name": "python3",
      "display_name": "Python 3"
    },
    "language_info": {
      "name": "python"
    }
  },
  "cells": [
    {
      "cell_type": "markdown",
      "metadata": {
        "id": "view-in-github",
        "colab_type": "text"
      },
      "source": [
        "<a href=\"https://colab.research.google.com/github/darkroot192-sudo/Comandos-Kali-Linux-/blob/main/Comandos_Kali_Linux.ipynb\" target=\"_parent\"><img src=\"https://colab.research.google.com/assets/colab-badge.svg\" alt=\"Open In Colab\"/></a>"
      ]
    },
    {
      "cell_type": "markdown",
      "source": [
        "# Comandos básicos y avanzados en Kali Linux\n",
        "\n",
        "Kali Linux es una distribución especializada en seguridad informática, pruebas de penetración y análisis forense. Este documento cubre comandos esenciales y avanzados para tareas comunes, hacking ético, análisis forense y automatización.\n",
        "\n",
        "---\n",
        "\n",
        "##  Navegación y gestión de archivos\n",
        "\n",
        "| Comando | Descripción |\n",
        "|--------|-------------|\n",
        "| `pwd` | Muestra el directorio actual. |\n",
        "| `ls -la` | Lista archivos, incluyendo ocultos, con detalles. |\n",
        "| `cd /ruta` | Cambia de directorio. |\n",
        "| `mkdir carpeta` | Crea una nueva carpeta. |\n",
        "| `rm -rf carpeta` | Elimina carpeta y contenido sin confirmación. |\n",
        "| `cp -r origen destino` | Copia directorios recursivamente. |\n",
        "| `mv archivo destino` | Mueve o renombra archivos. |\n",
        "\n",
        "---\n",
        "\n",
        "##  Gestión de usuarios y permisos\n",
        "\n",
        "| Comando | Descripción |\n",
        "|--------|-------------|\n",
        "| `whoami` | Muestra el usuario actual. |\n",
        "| `sudo su` | Cambia a superusuario. |\n",
        "| `chmod +x script.sh` | Da permisos de ejecución. |\n",
        "| `chown usuario:grupo archivo` | Cambia propietario. |\n",
        "\n",
        "---\n",
        "\n",
        "##  Comandos para pentesting y explotación\n",
        "\n",
        "| Comando | Descripción |\n",
        "|--------|-------------|\n",
        "| `nmap -sV -A IP` | Escaneo de puertos y servicios. |\n",
        "| `netdiscover` | Descubre dispositivos en red local. |\n",
        "| `msfconsole` | Inicia Metasploit Framework. |\n",
        "| `searchsploit nombre` | Busca exploits en Exploit-DB. |\n",
        "| `sqlmap -u URL --dbs` | Detecta y explota inyecciones SQL. |\n",
        "| `hydra -l admin -P rockyou.txt IP ssh` | Fuerza bruta contra SSH. |\n",
        "| `john archivo.hash --wordlist=rockyou.txt` | Cracking de hashes con John the Ripper. |\n",
        "| `airmon-ng start wlan0` | Activa modo monitor en Wi-Fi. |\n",
        "| `airodump-ng wlan0mon` | Captura paquetes Wi-Fi. |\n",
        "| `ettercap -G` | Interfaz gráfica para ataques MITM. |\n",
        "\n",
        "---\n",
        "\n",
        "##  Análisis forense digital\n",
        "\n",
        "| Comando | Descripción |\n",
        "|--------|-------------|\n",
        "| `autopsy` | Interfaz web para análisis forense. |\n",
        "| `foremost -i disco.img -o salida/` | Recupera archivos borrados. |\n",
        "| `strings archivo` | Extrae texto legible de archivos binarios. |\n",
        "| `binwalk -e firmware.bin` | Extrae contenido de firmware. |\n",
        "| `volatility -f memoria.raw --profile=Win10x64 pslist` | Analiza memoria RAM. |\n",
        "| `hashdeep -r carpeta/` | Calcula hashes de archivos recursivamente. |\n",
        "\n",
        "---\n",
        "\n",
        "##  Automatización con scripts Bash\n",
        "\n",
        "### Ejemplo de script básico\n",
        "\n",
        "```bash\n",
        "#!/bin/bash\n",
        "echo \"Escaneo de red en curso...\"\n",
        "nmap -sP 192.168.1.0/24 > escaneo.txt\n",
        "echo \"Escaneo guardado en escaneo.txt\""
      ],
      "metadata": {
        "id": "XqpXcRXfkr-f"
      }
    }
  ]
}